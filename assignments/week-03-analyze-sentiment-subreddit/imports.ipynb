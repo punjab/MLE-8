{
 "cells": [
  {
   "cell_type": "code",
   "execution_count": 1,
   "id": "dd8ca316",
   "metadata": {},
   "outputs": [
    {
     "name": "stdout",
     "output_type": "stream",
     "text": [
      "Requirement already satisfied: transformers in /Users/askang/anaconda3/envs/sa/lib/python3.8/site-packages (4.20.1)\n",
      "Collecting praw\n",
      "  Downloading praw-7.6.0-py3-none-any.whl (188 kB)\n",
      "\u001b[K     |████████████████████████████████| 188 kB 6.2 MB/s eta 0:00:01\n",
      "\u001b[?25hRequirement already satisfied: torch in /Users/askang/anaconda3/envs/sa/lib/python3.8/site-packages (1.12.0)\n",
      "Requirement already satisfied: numpy in /Users/askang/anaconda3/envs/sa/lib/python3.8/site-packages (1.23.0)\n",
      "Collecting numpy\n",
      "  Downloading numpy-1.23.1-cp38-cp38-macosx_10_9_x86_64.whl (18.1 MB)\n",
      "\u001b[K     |████████████████████████████████| 18.1 MB 15.7 MB/s eta 0:00:01\n",
      "\u001b[?25hCollecting pandas\n",
      "  Downloading pandas-1.4.3-cp38-cp38-macosx_10_9_x86_64.whl (11.4 MB)\n",
      "\u001b[K     |████████████████████████████████| 11.4 MB 4.3 MB/s eta 0:00:01\n",
      "\u001b[?25hRequirement already satisfied: huggingface-hub<1.0,>=0.1.0 in /Users/askang/anaconda3/envs/sa/lib/python3.8/site-packages (from transformers) (0.8.1)\n",
      "Requirement already satisfied: tokenizers!=0.11.3,<0.13,>=0.11.1 in /Users/askang/anaconda3/envs/sa/lib/python3.8/site-packages (from transformers) (0.12.1)\n",
      "Requirement already satisfied: regex!=2019.12.17 in /Users/askang/anaconda3/envs/sa/lib/python3.8/site-packages (from transformers) (2022.6.2)\n",
      "Requirement already satisfied: tqdm>=4.27 in /Users/askang/anaconda3/envs/sa/lib/python3.8/site-packages (from transformers) (4.64.0)\n",
      "Requirement already satisfied: filelock in /Users/askang/anaconda3/envs/sa/lib/python3.8/site-packages (from transformers) (3.7.1)\n",
      "Requirement already satisfied: pyyaml>=5.1 in /Users/askang/anaconda3/envs/sa/lib/python3.8/site-packages (from transformers) (6.0)\n",
      "Requirement already satisfied: packaging>=20.0 in /Users/askang/anaconda3/envs/sa/lib/python3.8/site-packages (from transformers) (21.3)\n",
      "Requirement already satisfied: requests in /Users/askang/anaconda3/envs/sa/lib/python3.8/site-packages (from transformers) (2.28.0)\n",
      "Collecting prawcore<3,>=2.1\n",
      "  Downloading prawcore-2.3.0-py3-none-any.whl (16 kB)\n",
      "Collecting update-checker>=0.18\n",
      "  Downloading update_checker-0.18.0-py3-none-any.whl (7.0 kB)\n",
      "Collecting websocket-client>=0.54.0\n",
      "  Downloading websocket_client-1.3.3-py3-none-any.whl (54 kB)\n",
      "\u001b[K     |████████████████████████████████| 54 kB 7.8 MB/s  eta 0:00:01\n",
      "\u001b[?25hRequirement already satisfied: typing-extensions in /Users/askang/anaconda3/envs/sa/lib/python3.8/site-packages (from torch) (4.1.1)\n",
      "Collecting pytz>=2020.1\n",
      "  Downloading pytz-2022.1-py2.py3-none-any.whl (503 kB)\n",
      "\u001b[K     |████████████████████████████████| 503 kB 33.0 MB/s eta 0:00:01\n",
      "\u001b[?25hRequirement already satisfied: python-dateutil>=2.8.1 in /Users/askang/anaconda3/envs/sa/lib/python3.8/site-packages (from pandas) (2.8.2)\n",
      "Requirement already satisfied: pyparsing!=3.0.5,>=2.0.2 in /Users/askang/anaconda3/envs/sa/lib/python3.8/site-packages (from packaging>=20.0->transformers) (3.0.4)\n",
      "Requirement already satisfied: six>=1.5 in /Users/askang/anaconda3/envs/sa/lib/python3.8/site-packages (from python-dateutil>=2.8.1->pandas) (1.16.0)\n",
      "Requirement already satisfied: urllib3<1.27,>=1.21.1 in /Users/askang/anaconda3/envs/sa/lib/python3.8/site-packages (from requests->transformers) (1.26.9)\n",
      "Requirement already satisfied: certifi>=2017.4.17 in /Users/askang/anaconda3/envs/sa/lib/python3.8/site-packages (from requests->transformers) (2022.6.15)\n",
      "Requirement already satisfied: charset-normalizer~=2.0.0 in /Users/askang/anaconda3/envs/sa/lib/python3.8/site-packages (from requests->transformers) (2.0.12)\n",
      "Requirement already satisfied: idna<4,>=2.5 in /Users/askang/anaconda3/envs/sa/lib/python3.8/site-packages (from requests->transformers) (3.3)\n",
      "Installing collected packages: websocket-client, update-checker, pytz, prawcore, numpy, praw, pandas\n",
      "  Attempting uninstall: numpy\n",
      "    Found existing installation: numpy 1.23.0\n",
      "    Uninstalling numpy-1.23.0:\n",
      "      Successfully uninstalled numpy-1.23.0\n",
      "Successfully installed numpy-1.23.1 pandas-1.4.3 praw-7.6.0 prawcore-2.3.0 pytz-2022.1 update-checker-0.18.0 websocket-client-1.3.3\n",
      "Note: you may need to restart the kernel to use updated packages.\n"
     ]
    }
   ],
   "source": [
    "pip install -U transformers praw torch numpy pandas"
   ]
  },
  {
   "cell_type": "code",
   "execution_count": null,
   "id": "5e4474df",
   "metadata": {},
   "outputs": [],
   "source": []
  }
 ],
 "metadata": {
  "kernelspec": {
   "display_name": "Python 3 (ipykernel)",
   "language": "python",
   "name": "python3"
  },
  "language_info": {
   "codemirror_mode": {
    "name": "ipython",
    "version": 3
   },
   "file_extension": ".py",
   "mimetype": "text/x-python",
   "name": "python",
   "nbconvert_exporter": "python",
   "pygments_lexer": "ipython3",
   "version": "3.8.13"
  }
 },
 "nbformat": 4,
 "nbformat_minor": 5
}
